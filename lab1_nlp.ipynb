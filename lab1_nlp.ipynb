{
 "cells": [
  {
   "cell_type": "markdown",
   "metadata": {
    "id": "CerKmupmxKih"
   },
   "source": [
    "### First remove non arabic words"
   ]
  },
  {
   "cell_type": "code",
   "execution_count": 28,
   "metadata": {
    "id": "uz-rx1nhxPnd"
   },
   "outputs": [
    {
     "data": {
      "text/plain": [
       "' 6 oct 1973 إننننننننننن التاريخ العسكري سوف يتوقف طويلاً أمام عملية يوم ٦ أكتوبر ١٩٧٣, ولست اتجاوز اذا قلت أن التاريخ العسكري سوف يتوقف طويلاً بالفحص والدرس أمام عملية يوم ٦ أكتوبر سنة ٧٣, حين تمكنت القوات المسلحة المصرية من إقتحام مانع قناة السويس الصعب واجتياز خط بارليف المنيع وإقامة رؤس جسور لها بعد أن أفقدت العدو توازنه فى 6 ساعات, لقد كانت المخاطرة كبيرة والتضحيات عظيمة لمعركة ٦ أكتوبر خلال الساعات الست ,الأولي من حربنا كانت ]هائلة فقد :العدو توازنه إلي هذه اللحظة'"
      ]
     },
     "execution_count": 28,
     "metadata": {},
     "output_type": "execute_result"
    }
   ],
   "source": [
    "text = \" 6 oct 1973 إننننننننننن التاريخ العسكري سوف يتوقف طويلاً أمام عملية يوم ٦ أكتوبر ١٩٧٣, ولست اتجاوز اذا قلت أن التاريخ العسكري سوف يتوقف طويلاً بالفحص والدرس أمام عملية يوم ٦ أكتوبر سنة ٧٣, حين تمكنت القوات المسلحة المصرية من إقتحام مانع قناة السويس الصعب واجتياز خط بارليف المنيع وإقامة رؤس جسور لها بعد أن أفقدت العدو توازنه فى 6 ساعات, لقد كانت المخاطرة كبيرة والتضحيات عظيمة لمعركة ٦ أكتوبر خلال الساعات الست ,الأولي من حربنا كانت ]هائلة فقد :العدو توازنه إلي هذه اللحظة\"\n",
    "text"
   ]
  },
  {
   "cell_type": "code",
   "execution_count": 29,
   "metadata": {},
   "outputs": [
    {
     "name": "stdout",
     "output_type": "stream",
     "text": [
      "    إننننننننننن التاريخ العسكري سوف يتوقف طويلاً أمام عملية يوم ٦ أكتوبر ١٩٧٣, ولست اتجاوز اذا قلت أن التاريخ العسكري سوف يتوقف طويلاً بالفحص والدرس أمام عملية يوم ٦ أكتوبر سنة ٧٣, حين تمكنت القوات المسلحة المصرية من إقتحام مانع قناة السويس الصعب واجتياز خط بارليف المنيع وإقامة رؤس جسور لها بعد أن أفقدت العدو توازنه فى  ساعات, لقد كانت المخاطرة كبيرة والتضحيات عظيمة لمعركة ٦ أكتوبر خلال الساعات الست ,الأولي من حربنا كانت ]هائلة فقد :العدو توازنه إلي هذه اللحظة\n"
     ]
    }
   ],
   "source": [
    "import re\n",
    "text = re.sub('([@A-Za-z0-9]+)', '', text) \n",
    "print (text)"
   ]
  },
  {
   "cell_type": "markdown",
   "metadata": {
    "id": "wwx7VTWRyBkK"
   },
   "source": [
    "### remove punctuation"
   ]
  },
  {
   "cell_type": "code",
   "execution_count": 30,
   "metadata": {
    "id": "37NOFjPLxw4P"
   },
   "outputs": [
    {
     "name": "stdout",
     "output_type": "stream",
     "text": [
      "    إننننننننننن التاريخ العسكري سوف يتوقف طويلا أمام عملية يوم ٦ أكتوبر ١٩٧٣ ولست اتجاوز اذا قلت أن التاريخ العسكري سوف يتوقف طويلا بالفحص والدرس أمام عملية يوم ٦ أكتوبر سنة ٧٣ حين تمكنت القوات المسلحة المصرية من إقتحام مانع قناة السويس الصعب واجتياز خط بارليف المنيع وإقامة رؤس جسور لها بعد أن أفقدت العدو توازنه فى  ساعات لقد كانت المخاطرة كبيرة والتضحيات عظيمة لمعركة ٦ أكتوبر خلال الساعات الست الأولي من حربنا كانت هائلة فقد العدو توازنه إلي هذه اللحظة\n"
     ]
    }
   ],
   "source": [
    "text = re.sub('([^\\w\\s])', '', text) \n",
    "print (text)"
   ]
  },
  {
   "cell_type": "markdown",
   "metadata": {
    "id": "It3Ajgb2zOW5"
   },
   "source": [
    "### use re for remove_repeating_char"
   ]
  },
  {
   "cell_type": "code",
   "execution_count": 32,
   "metadata": {
    "id": "oKMZLovbzSCB"
   },
   "outputs": [
    {
     "name": "stdout",
     "output_type": "stream",
     "text": [
      " إن التاريخ العسكري سوف يتوقف طويلا أمام عملية يوم ٦ أكتوبر ١٩٧٣ ولست اتجاوز اذا قلت أن التاريخ العسكري سوف يتوقف طويلا بالفحص والدرس أمام عملية يوم ٦ أكتوبر سنة ٧٣ حين تمكنت القوات المسلحة المصرية من إقتحام مانع قناة السويس الصعب واجتياز خط بارليف المنيع وإقامة رؤس جسور لها بعد أن أفقدت العدو توازنه فى ساعات لقد كانت المخاطرة كبيرة والتضحيات عظيمة لمعركة ٦ أكتوبر خلال الساعات الست الأولي من حربنا كانت هائلة فقد العدو توازنه إلي هذه الحظة\n"
     ]
    }
   ],
   "source": [
    "text= re.sub(r'(.)\\1+', r'\\1', text)\n",
    "print (text)"
   ]
  },
  {
   "cell_type": "markdown",
   "metadata": {
    "id": "QxTg1qBbzkMY"
   },
   "source": [
    "  ### Convert www.* or https?://* to \" \""
   ]
  },
  {
   "cell_type": "code",
   "execution_count": 72,
   "metadata": {
    "id": "qNGk8iP10Egb"
   },
   "outputs": [
    {
     "name": "stdout",
     "output_type": "stream",
     "text": [
      "I use https://fast.com/ to Discover the internet speeeeeeeeeed\n"
     ]
    }
   ],
   "source": [
    "text = 'I use https://fast.com/ to Discover the internet speeeeeeeeeed'\n",
    "print (text)"
   ]
  },
  {
   "cell_type": "code",
   "execution_count": 73,
   "metadata": {},
   "outputs": [
    {
     "name": "stdout",
     "output_type": "stream",
     "text": [
      "I use  to Discover the internet speeeeeeeeeed\n",
      "I use  to Discover the internet speeeeeeeeeed\n"
     ]
    }
   ],
   "source": [
    "# replace http(s)://* with a single space\n",
    "text = re.sub(r'https?://\\S+', '', text)\n",
    "print (text)\n",
    "# replace www.* with a single space\n",
    "text = re.sub(r'www\\.\\S+', '', text)\n",
    "print (text)   "
   ]
  },
  {
   "cell_type": "markdown",
   "metadata": {
    "id": "_5rdWVTL0bor"
   },
   "source": [
    "### remove stop words"
   ]
  },
  {
   "cell_type": "code",
   "execution_count": 74,
   "metadata": {
    "id": "kk1Frx2kzrj6"
   },
   "outputs": [
    {
     "name": "stderr",
     "output_type": "stream",
     "text": [
      "[nltk_data] Downloading package stopwords to\n",
      "[nltk_data]     C:\\Users\\Fawzia\\AppData\\Roaming\\nltk_data...\n",
      "[nltk_data]   Package stopwords is already up-to-date!\n"
     ]
    },
    {
     "data": {
      "text/plain": [
       "True"
      ]
     },
     "execution_count": 74,
     "metadata": {},
     "output_type": "execute_result"
    }
   ],
   "source": [
    "import nltk\n",
    "nltk.download('stopwords')"
   ]
  },
  {
   "cell_type": "code",
   "execution_count": 75,
   "metadata": {},
   "outputs": [
    {
     "name": "stdout",
     "output_type": "stream",
     "text": [
      "I use Discover internet speeeeeeeeeed\n"
     ]
    }
   ],
   "source": [
    "from nltk.corpus import stopwords\n",
    "\n",
    "\n",
    "# Convert the text to lowercase\n",
    "#text = text.lower()\n",
    "    \n",
    "# Remove all non-word characters (i.e., anything that's not a letter or a number)\n",
    "#text = re.sub(r'\\W', ' ', text)\n",
    "    \n",
    "# Split the text into individual words\n",
    "words = text.split()\n",
    "    \n",
    "# Remove the stop words from the list of words\n",
    "stop_words = set(stopwords.words('english'))\n",
    "words = [word for word in words if word not in stop_words]\n",
    "    \n",
    "# Join the words back together into a string\n",
    "text = ' '.join(words)\n",
    "\n",
    "print(text)"
   ]
  },
  {
   "cell_type": "markdown",
   "metadata": {
    "id": "c1FWfshh0nsb"
   },
   "source": [
    "Getting Tokenize the text with 2 diff ways"
   ]
  },
  {
   "cell_type": "code",
   "execution_count": 76,
   "metadata": {
    "id": "bNCg0tbh0tIS"
   },
   "outputs": [
    {
     "name": "stderr",
     "output_type": "stream",
     "text": [
      "[nltk_data] Downloading package punkt to\n",
      "[nltk_data]     C:\\Users\\Fawzia\\AppData\\Roaming\\nltk_data...\n",
      "[nltk_data]   Package punkt is already up-to-date!\n"
     ]
    },
    {
     "data": {
      "text/plain": [
       "True"
      ]
     },
     "execution_count": 76,
     "metadata": {},
     "output_type": "execute_result"
    }
   ],
   "source": [
    "nltk.download('punkt')"
   ]
  },
  {
   "cell_type": "code",
   "execution_count": 77,
   "metadata": {
    "id": "P-zpwTxG0t5x"
   },
   "outputs": [
    {
     "name": "stdout",
     "output_type": "stream",
     "text": [
      "['I', 'use', 'Discover', 'internet', 'speeeeeeeeeed']\n"
     ]
    }
   ],
   "source": [
    "#first way\n",
    "tokens = nltk.word_tokenize(text)\n",
    "print(tokens)"
   ]
  },
  {
   "cell_type": "code",
   "execution_count": 78,
   "metadata": {},
   "outputs": [
    {
     "name": "stdout",
     "output_type": "stream",
     "text": [
      "['I', 'use', 'Discover', 'internet', 'speeeeeeeeeed']\n"
     ]
    }
   ],
   "source": [
    "#second way\n",
    "tokens = text.split()\n",
    "print(tokens)"
   ]
  },
  {
   "cell_type": "markdown",
   "metadata": {
    "id": "9_82i8-c0-Gc"
   },
   "source": [
    "### remove_repeating_char"
   ]
  },
  {
   "cell_type": "code",
   "execution_count": 79,
   "metadata": {
    "id": "37HnMSR41Dm3"
   },
   "outputs": [
    {
     "name": "stdout",
     "output_type": "stream",
     "text": [
      "I use Discover internet sped\n"
     ]
    }
   ],
   "source": [
    "text= re.sub(r'(.)\\1+', r'\\1', text)\n",
    "print (text)"
   ]
  },
  {
   "cell_type": "markdown",
   "metadata": {
    "id": "Jh8b_bsQ1YxJ"
   },
   "source": [
    "### convert upper char"
   ]
  },
  {
   "cell_type": "code",
   "execution_count": 80,
   "metadata": {
    "id": "YrUGbyJB1_DR"
   },
   "outputs": [
    {
     "name": "stdout",
     "output_type": "stream",
     "text": [
      "i use discover internet sped\n"
     ]
    }
   ],
   "source": [
    "text = re.sub('[A-Z]', lambda match: match.group(0).lower(), text) \n",
    "print (text)"
   ]
  },
  {
   "cell_type": "markdown",
   "metadata": {
    "id": "wGUBtXwU2e3I"
   },
   "source": [
    "### Replace @username with empty string"
   ]
  },
  {
   "cell_type": "code",
   "execution_count": 87,
   "metadata": {
    "id": "disERfxG2gYl"
   },
   "outputs": [],
   "source": [
    "text  = '@Nw8ieJUwaCAAreT لكن بالنهاية .. ينتفض .. يغي'"
   ]
  },
  {
   "cell_type": "code",
   "execution_count": 89,
   "metadata": {
    "id": "lZnBDlGl2jHO"
   },
   "outputs": [
    {
     "name": "stdout",
     "output_type": "stream",
     "text": [
      "   لكن بالنهاية .. ينتفض .. يغي\n"
     ]
    }
   ],
   "source": [
    "text = re.sub(r'[@A-Za-z0-9]+', ' ', text) \n",
    "print (text)"
   ]
  },
  {
   "cell_type": "markdown",
   "metadata": {
    "id": "I1GLq7In2_AA"
   },
   "source": [
    "### find valid emails and replace Mr john by sender"
   ]
  },
  {
   "cell_type": "code",
   "execution_count": 99,
   "metadata": {
    "id": "TfQehn9r2_ms"
   },
   "outputs": [],
   "source": [
    "text = \"dear Mr jhon, kindly accept the attached file xx@file. you worked hard for the last 7 days. enjoy your holiday. if you face a trouble please, contact _1@xyz.com or 1y@abc.com, ec@mnop.com you may also use xy@1l.vv yours Mrs jane \""
   ]
  },
  {
   "cell_type": "code",
   "execution_count": 101,
   "metadata": {
    "id": "DVVRL5Cc3BT_"
   },
   "outputs": [
    {
     "name": "stdout",
     "output_type": "stream",
     "text": [
      "['_1@xyz.com', '1y@abc.com', 'ec@mnop.com', 'xy@1l.vv']\n"
     ]
    }
   ],
   "source": [
    "# Regular expression pattern to match email addresses\n",
    "email_pattern = r'\\b[A-Za-z0-9._%+-]+@[A-Za-z0-9.-]+\\.[A-Za-z]{2,}\\b'\n",
    "\n",
    "# Find all email addresses in the text\n",
    "emails = re.findall(email_pattern, text)\n",
    "print(emails)   "
   ]
  },
  {
   "cell_type": "code",
   "execution_count": 102,
   "metadata": {},
   "outputs": [
    {
     "name": "stdout",
     "output_type": "stream",
     "text": [
      "dear sender, kindly accept the attached file xx@file. you worked hard for the last 7 days. enjoy your holiday. if you face a trouble please, contact _1@xyz.com or 1y@abc.com, ec@mnop.com you may also use xy@1l.vv yours Mrs jane \n"
     ]
    }
   ],
   "source": [
    "# Replace \"Mr John\" with \"sender\"\n",
    "text = re.sub(r'Mr\\s+jhon', 'sender', text) \n",
    "print (text)"
   ]
  },
  {
   "cell_type": "markdown",
   "metadata": {
    "id": "owpEy_9b3tbI"
   },
   "source": [
    "### Extract Hashtags"
   ]
  },
  {
   "cell_type": "code",
   "execution_count": 105,
   "metadata": {
    "id": "q9UIfEXx3vOA"
   },
   "outputs": [],
   "source": [
    "tweet = \"a tweet with no hashtag, but a #HASHTAG and another #cool one #هاشتاج\""
   ]
  },
  {
   "cell_type": "code",
   "execution_count": 107,
   "metadata": {
    "id": "nJ3HJQO75Pz_"
   },
   "outputs": [
    {
     "name": "stdout",
     "output_type": "stream",
     "text": [
      "['#HASHTAG', '#cool', '#هاشتاج']\n"
     ]
    }
   ],
   "source": [
    "# Find all hashtags in the text\n",
    "hashtags = re.findall(r'\\#\\w+', tweet)\n",
    "\n",
    "print(hashtags)"
   ]
  },
  {
   "cell_type": "markdown",
   "metadata": {
    "id": "lFKN0ZDV5DC3"
   },
   "source": [
    "### apply stemming and lemmatization "
   ]
  },
  {
   "cell_type": "code",
   "execution_count": 123,
   "metadata": {
    "id": "Y_cXKeGS5CMY"
   },
   "outputs": [],
   "source": [
    "plurals = ['caresses', 'flies', 'dies', 'mules', 'denied',\n",
    "           'died', 'agreed', 'owned', 'humbled', 'sized',\n",
    "           'meeting', 'stating', 'siezing', 'itemization',\n",
    "           'sensational', 'traditional', 'reference', 'colonizer',\n",
    "           'plotted']"
   ]
  },
  {
   "cell_type": "code",
   "execution_count": 132,
   "metadata": {},
   "outputs": [
    {
     "name": "stderr",
     "output_type": "stream",
     "text": [
      "[nltk_data] Downloading package wordnet to\n",
      "[nltk_data]     C:\\Users\\Fawzia\\AppData\\Roaming\\nltk_data...\n"
     ]
    },
    {
     "data": {
      "text/plain": [
       "True"
      ]
     },
     "execution_count": 132,
     "metadata": {},
     "output_type": "execute_result"
    }
   ],
   "source": [
    "import nltk\n",
    "nltk.download('wordnet')"
   ]
  },
  {
   "cell_type": "code",
   "execution_count": 133,
   "metadata": {},
   "outputs": [],
   "source": [
    "import nltk\n",
    "from nltk.stem import PorterStemmer, WordNetLemmatizer\n",
    "from nltk.corpus import wordnet"
   ]
  },
  {
   "cell_type": "code",
   "execution_count": 134,
   "metadata": {
    "id": "QEe74oGI5LfN"
   },
   "outputs": [
    {
     "name": "stdout",
     "output_type": "stream",
     "text": [
      "caress, fli, die, mule, deni, die, agre, own, humbl, size, meet, state, siez, item, sensat, tradit, refer, colon, plot\n"
     ]
    }
   ],
   "source": [
    "stemmer = PorterStemmer()\n",
    "# Apply stemming to the words\n",
    "singles = [stemmer.stem(plural) for plural in plurals]\n",
    "print(', '.join(singles))"
   ]
  },
  {
   "cell_type": "code",
   "execution_count": 135,
   "metadata": {},
   "outputs": [
    {
     "name": "stdout",
     "output_type": "stream",
     "text": [
      "['caress', 'fly', 'dy', 'mule', 'deny', 'die', 'agree', 'own', 'humble', 'size', 'meeting', 'state', 'siezing', 'itemization', 'sensational', 'traditional', 'reference', 'colonizer', 'plot']\n"
     ]
    }
   ],
   "source": [
    "lemmatizer = WordNetLemmatizer()\n",
    "# Apply lemmatization to the words\n",
    "lemmatized_words = []\n",
    "for plural in plurals:\n",
    "    # Determine the word's part of speech\n",
    "    pos = wordnet.synsets(plural)[0].pos() if wordnet.synsets(plural) else 'n'\n",
    "    \n",
    "    # Lemmatize the word based on its part of speech\n",
    "    lemma = lemmatizer.lemmatize(plural, pos=pos)\n",
    "    lemmatized_words.append(lemma)\n",
    "\n",
    "print(lemmatized_words)  "
   ]
  },
  {
   "cell_type": "markdown",
   "metadata": {
    "id": "uMQW4Azt5ghj"
   },
   "source": [
    "### apply Bag of words , tf-idf with and without n-grams on this data "
   ]
  },
  {
   "cell_type": "markdown",
   "metadata": {
    "id": "6aPxdR-X5eCh"
   },
   "source": [
    "![image.png](data:image/png;base64,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)"
   ]
  },
  {
   "cell_type": "code",
   "execution_count": 138,
   "metadata": {},
   "outputs": [],
   "source": [
    "import pandas as pd\n",
    "from sklearn.feature_extraction.text import CountVectorizer, TfidfVectorizer\n"
   ]
  },
  {
   "cell_type": "code",
   "execution_count": 139,
   "metadata": {
    "id": "X4f28e2E5fDt"
   },
   "outputs": [],
   "source": [
    "texts = [ 'the red dog', 'cat eats dog', 'dog eats food',\n",
    "         'red cat eats', 'the hot dog']"
   ]
  },
  {
   "cell_type": "code",
   "execution_count": 140,
   "metadata": {
    "id": "TZTyJfY56DX3"
   },
   "outputs": [
    {
     "name": "stdout",
     "output_type": "stream",
     "text": [
      "   cat  dog  eats  food  hot  red  the\n",
      "0    0    1     0     0    0    1    1\n",
      "1    1    1     1     0    0    0    0\n",
      "2    0    1     1     1    0    0    0\n",
      "3    1    0     1     0    0    1    0\n",
      "4    0    1     0     0    1    0    1\n"
     ]
    }
   ],
   "source": [
    "# create the vectorizer\n",
    "bow_vectorizer = CountVectorizer()\n",
    "\n",
    "# fit and transform the data\n",
    "bow_matrix = bow_vectorizer.fit_transform(texts)\n",
    "\n",
    "# convert the matrix to a dataframe\n",
    "bow_df = pd.DataFrame(bow_matrix.toarray(), columns=bow_vectorizer.get_feature_names())\n",
    "print(bow_df)"
   ]
  },
  {
   "cell_type": "code",
   "execution_count": null,
   "metadata": {},
   "outputs": [],
   "source": []
  }
 ],
 "metadata": {
  "colab": {
   "provenance": []
  },
  "kernelspec": {
   "display_name": "Python 3",
   "language": "python",
   "name": "python3"
  },
  "language_info": {
   "codemirror_mode": {
    "name": "ipython",
    "version": 3
   },
   "file_extension": ".py",
   "mimetype": "text/x-python",
   "name": "python",
   "nbconvert_exporter": "python",
   "pygments_lexer": "ipython3",
   "version": "3.8.8"
  }
 },
 "nbformat": 4,
 "nbformat_minor": 1
}
